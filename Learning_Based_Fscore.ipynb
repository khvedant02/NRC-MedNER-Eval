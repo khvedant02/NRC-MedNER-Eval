{
  "nbformat": 4,
  "nbformat_minor": 0,
  "metadata": {
    "colab": {
      "name": "Learning-Based-Fscore.ipynb",
      "provenance": [],
      "collapsed_sections": [],
      "toc_visible": true
    },
    "kernelspec": {
      "name": "python3",
      "display_name": "Python 3"
    },
    "accelerator": "GPU",
    "widgets": {
      "application/vnd.jupyter.widget-state+json": {
        "c8f9f5ca2d114476b11fba1a961dc17b": {
          "model_module": "@jupyter-widgets/controls",
          "model_name": "HBoxModel",
          "state": {
            "_view_name": "HBoxView",
            "_dom_classes": [],
            "_model_name": "HBoxModel",
            "_view_module": "@jupyter-widgets/controls",
            "_model_module_version": "1.5.0",
            "_view_count": null,
            "_view_module_version": "1.5.0",
            "box_style": "",
            "layout": "IPY_MODEL_cad1033de64e480086fd00d4d73038f6",
            "_model_module": "@jupyter-widgets/controls",
            "children": [
              "IPY_MODEL_17dee88b7e284e04828141642d1dc3a5",
              "IPY_MODEL_e496f72280894c699b7b69ea8fce02f6"
            ]
          }
        },
        "cad1033de64e480086fd00d4d73038f6": {
          "model_module": "@jupyter-widgets/base",
          "model_name": "LayoutModel",
          "state": {
            "_view_name": "LayoutView",
            "grid_template_rows": null,
            "right": null,
            "justify_content": null,
            "_view_module": "@jupyter-widgets/base",
            "overflow": null,
            "_model_module_version": "1.2.0",
            "_view_count": null,
            "flex_flow": null,
            "width": null,
            "min_width": null,
            "border": null,
            "align_items": null,
            "bottom": null,
            "_model_module": "@jupyter-widgets/base",
            "top": null,
            "grid_column": null,
            "overflow_y": null,
            "overflow_x": null,
            "grid_auto_flow": null,
            "grid_area": null,
            "grid_template_columns": null,
            "flex": null,
            "_model_name": "LayoutModel",
            "justify_items": null,
            "grid_row": null,
            "max_height": null,
            "align_content": null,
            "visibility": null,
            "align_self": null,
            "height": null,
            "min_height": null,
            "padding": null,
            "grid_auto_rows": null,
            "grid_gap": null,
            "max_width": null,
            "order": null,
            "_view_module_version": "1.2.0",
            "grid_template_areas": null,
            "object_position": null,
            "object_fit": null,
            "grid_auto_columns": null,
            "margin": null,
            "display": null,
            "left": null
          }
        },
        "17dee88b7e284e04828141642d1dc3a5": {
          "model_module": "@jupyter-widgets/controls",
          "model_name": "FloatProgressModel",
          "state": {
            "_view_name": "ProgressView",
            "style": "IPY_MODEL_e4f38044b6e346e18c24a11574232dd3",
            "_dom_classes": [],
            "description": "100%",
            "_model_name": "FloatProgressModel",
            "bar_style": "success",
            "max": 5296,
            "_view_module": "@jupyter-widgets/controls",
            "_model_module_version": "1.5.0",
            "value": 5296,
            "_view_count": null,
            "_view_module_version": "1.5.0",
            "orientation": "horizontal",
            "min": 0,
            "description_tooltip": null,
            "_model_module": "@jupyter-widgets/controls",
            "layout": "IPY_MODEL_cc21bd55061444daa8d173626cec8273"
          }
        },
        "e496f72280894c699b7b69ea8fce02f6": {
          "model_module": "@jupyter-widgets/controls",
          "model_name": "HTMLModel",
          "state": {
            "_view_name": "HTMLView",
            "style": "IPY_MODEL_93b0d38a3e2d4e89b59e84ce3065dcdb",
            "_dom_classes": [],
            "description": "",
            "_model_name": "HTMLModel",
            "placeholder": "​",
            "_view_module": "@jupyter-widgets/controls",
            "_model_module_version": "1.5.0",
            "value": " 5296/5296 [00:05&lt;00:00, 953.79it/s]",
            "_view_count": null,
            "_view_module_version": "1.5.0",
            "description_tooltip": null,
            "_model_module": "@jupyter-widgets/controls",
            "layout": "IPY_MODEL_3ade888f4dae43c18514dbe8707519d2"
          }
        },
        "e4f38044b6e346e18c24a11574232dd3": {
          "model_module": "@jupyter-widgets/controls",
          "model_name": "ProgressStyleModel",
          "state": {
            "_view_name": "StyleView",
            "_model_name": "ProgressStyleModel",
            "description_width": "initial",
            "_view_module": "@jupyter-widgets/base",
            "_model_module_version": "1.5.0",
            "_view_count": null,
            "_view_module_version": "1.2.0",
            "bar_color": null,
            "_model_module": "@jupyter-widgets/controls"
          }
        },
        "cc21bd55061444daa8d173626cec8273": {
          "model_module": "@jupyter-widgets/base",
          "model_name": "LayoutModel",
          "state": {
            "_view_name": "LayoutView",
            "grid_template_rows": null,
            "right": null,
            "justify_content": null,
            "_view_module": "@jupyter-widgets/base",
            "overflow": null,
            "_model_module_version": "1.2.0",
            "_view_count": null,
            "flex_flow": null,
            "width": null,
            "min_width": null,
            "border": null,
            "align_items": null,
            "bottom": null,
            "_model_module": "@jupyter-widgets/base",
            "top": null,
            "grid_column": null,
            "overflow_y": null,
            "overflow_x": null,
            "grid_auto_flow": null,
            "grid_area": null,
            "grid_template_columns": null,
            "flex": null,
            "_model_name": "LayoutModel",
            "justify_items": null,
            "grid_row": null,
            "max_height": null,
            "align_content": null,
            "visibility": null,
            "align_self": null,
            "height": null,
            "min_height": null,
            "padding": null,
            "grid_auto_rows": null,
            "grid_gap": null,
            "max_width": null,
            "order": null,
            "_view_module_version": "1.2.0",
            "grid_template_areas": null,
            "object_position": null,
            "object_fit": null,
            "grid_auto_columns": null,
            "margin": null,
            "display": null,
            "left": null
          }
        },
        "93b0d38a3e2d4e89b59e84ce3065dcdb": {
          "model_module": "@jupyter-widgets/controls",
          "model_name": "DescriptionStyleModel",
          "state": {
            "_view_name": "StyleView",
            "_model_name": "DescriptionStyleModel",
            "description_width": "",
            "_view_module": "@jupyter-widgets/base",
            "_model_module_version": "1.5.0",
            "_view_count": null,
            "_view_module_version": "1.2.0",
            "_model_module": "@jupyter-widgets/controls"
          }
        },
        "3ade888f4dae43c18514dbe8707519d2": {
          "model_module": "@jupyter-widgets/base",
          "model_name": "LayoutModel",
          "state": {
            "_view_name": "LayoutView",
            "grid_template_rows": null,
            "right": null,
            "justify_content": null,
            "_view_module": "@jupyter-widgets/base",
            "overflow": null,
            "_model_module_version": "1.2.0",
            "_view_count": null,
            "flex_flow": null,
            "width": null,
            "min_width": null,
            "border": null,
            "align_items": null,
            "bottom": null,
            "_model_module": "@jupyter-widgets/base",
            "top": null,
            "grid_column": null,
            "overflow_y": null,
            "overflow_x": null,
            "grid_auto_flow": null,
            "grid_area": null,
            "grid_template_columns": null,
            "flex": null,
            "_model_name": "LayoutModel",
            "justify_items": null,
            "grid_row": null,
            "max_height": null,
            "align_content": null,
            "visibility": null,
            "align_self": null,
            "height": null,
            "min_height": null,
            "padding": null,
            "grid_auto_rows": null,
            "grid_gap": null,
            "max_width": null,
            "order": null,
            "_view_module_version": "1.2.0",
            "grid_template_areas": null,
            "object_position": null,
            "object_fit": null,
            "grid_auto_columns": null,
            "margin": null,
            "display": null,
            "left": null
          }
        },
        "b3f0400a3bf64d2b9a6128fca0195abb": {
          "model_module": "@jupyter-widgets/controls",
          "model_name": "HBoxModel",
          "state": {
            "_view_name": "HBoxView",
            "_dom_classes": [],
            "_model_name": "HBoxModel",
            "_view_module": "@jupyter-widgets/controls",
            "_model_module_version": "1.5.0",
            "_view_count": null,
            "_view_module_version": "1.5.0",
            "box_style": "",
            "layout": "IPY_MODEL_2febbe0b03fc4779abeccf7adb81cd9a",
            "_model_module": "@jupyter-widgets/controls",
            "children": [
              "IPY_MODEL_fe06405109c94714a5c08c966fb80704",
              "IPY_MODEL_61ef6c441fb644b9a68df5d5c6b9216b"
            ]
          }
        },
        "2febbe0b03fc4779abeccf7adb81cd9a": {
          "model_module": "@jupyter-widgets/base",
          "model_name": "LayoutModel",
          "state": {
            "_view_name": "LayoutView",
            "grid_template_rows": null,
            "right": null,
            "justify_content": null,
            "_view_module": "@jupyter-widgets/base",
            "overflow": null,
            "_model_module_version": "1.2.0",
            "_view_count": null,
            "flex_flow": null,
            "width": null,
            "min_width": null,
            "border": null,
            "align_items": null,
            "bottom": null,
            "_model_module": "@jupyter-widgets/base",
            "top": null,
            "grid_column": null,
            "overflow_y": null,
            "overflow_x": null,
            "grid_auto_flow": null,
            "grid_area": null,
            "grid_template_columns": null,
            "flex": null,
            "_model_name": "LayoutModel",
            "justify_items": null,
            "grid_row": null,
            "max_height": null,
            "align_content": null,
            "visibility": null,
            "align_self": null,
            "height": null,
            "min_height": null,
            "padding": null,
            "grid_auto_rows": null,
            "grid_gap": null,
            "max_width": null,
            "order": null,
            "_view_module_version": "1.2.0",
            "grid_template_areas": null,
            "object_position": null,
            "object_fit": null,
            "grid_auto_columns": null,
            "margin": null,
            "display": null,
            "left": null
          }
        },
        "fe06405109c94714a5c08c966fb80704": {
          "model_module": "@jupyter-widgets/controls",
          "model_name": "FloatProgressModel",
          "state": {
            "_view_name": "ProgressView",
            "style": "IPY_MODEL_eecccfa905734400ad757306fd6dce97",
            "_dom_classes": [],
            "description": "100%",
            "_model_name": "FloatProgressModel",
            "bar_style": "success",
            "max": 5296,
            "_view_module": "@jupyter-widgets/controls",
            "_model_module_version": "1.5.0",
            "value": 5296,
            "_view_count": null,
            "_view_module_version": "1.5.0",
            "orientation": "horizontal",
            "min": 0,
            "description_tooltip": null,
            "_model_module": "@jupyter-widgets/controls",
            "layout": "IPY_MODEL_6c77e34d992d4d30bf60b3af348515ea"
          }
        },
        "61ef6c441fb644b9a68df5d5c6b9216b": {
          "model_module": "@jupyter-widgets/controls",
          "model_name": "HTMLModel",
          "state": {
            "_view_name": "HTMLView",
            "style": "IPY_MODEL_8a103dd670384a9baa87cf9e0bbb5f22",
            "_dom_classes": [],
            "description": "",
            "_model_name": "HTMLModel",
            "placeholder": "​",
            "_view_module": "@jupyter-widgets/controls",
            "_model_module_version": "1.5.0",
            "value": " 5296/5296 [00:02&lt;00:00, 1915.46it/s]",
            "_view_count": null,
            "_view_module_version": "1.5.0",
            "description_tooltip": null,
            "_model_module": "@jupyter-widgets/controls",
            "layout": "IPY_MODEL_30af3c4d7c0d4445aa5a1d9e2601240b"
          }
        },
        "eecccfa905734400ad757306fd6dce97": {
          "model_module": "@jupyter-widgets/controls",
          "model_name": "ProgressStyleModel",
          "state": {
            "_view_name": "StyleView",
            "_model_name": "ProgressStyleModel",
            "description_width": "initial",
            "_view_module": "@jupyter-widgets/base",
            "_model_module_version": "1.5.0",
            "_view_count": null,
            "_view_module_version": "1.2.0",
            "bar_color": null,
            "_model_module": "@jupyter-widgets/controls"
          }
        },
        "6c77e34d992d4d30bf60b3af348515ea": {
          "model_module": "@jupyter-widgets/base",
          "model_name": "LayoutModel",
          "state": {
            "_view_name": "LayoutView",
            "grid_template_rows": null,
            "right": null,
            "justify_content": null,
            "_view_module": "@jupyter-widgets/base",
            "overflow": null,
            "_model_module_version": "1.2.0",
            "_view_count": null,
            "flex_flow": null,
            "width": null,
            "min_width": null,
            "border": null,
            "align_items": null,
            "bottom": null,
            "_model_module": "@jupyter-widgets/base",
            "top": null,
            "grid_column": null,
            "overflow_y": null,
            "overflow_x": null,
            "grid_auto_flow": null,
            "grid_area": null,
            "grid_template_columns": null,
            "flex": null,
            "_model_name": "LayoutModel",
            "justify_items": null,
            "grid_row": null,
            "max_height": null,
            "align_content": null,
            "visibility": null,
            "align_self": null,
            "height": null,
            "min_height": null,
            "padding": null,
            "grid_auto_rows": null,
            "grid_gap": null,
            "max_width": null,
            "order": null,
            "_view_module_version": "1.2.0",
            "grid_template_areas": null,
            "object_position": null,
            "object_fit": null,
            "grid_auto_columns": null,
            "margin": null,
            "display": null,
            "left": null
          }
        },
        "8a103dd670384a9baa87cf9e0bbb5f22": {
          "model_module": "@jupyter-widgets/controls",
          "model_name": "DescriptionStyleModel",
          "state": {
            "_view_name": "StyleView",
            "_model_name": "DescriptionStyleModel",
            "description_width": "",
            "_view_module": "@jupyter-widgets/base",
            "_model_module_version": "1.5.0",
            "_view_count": null,
            "_view_module_version": "1.2.0",
            "_model_module": "@jupyter-widgets/controls"
          }
        },
        "30af3c4d7c0d4445aa5a1d9e2601240b": {
          "model_module": "@jupyter-widgets/base",
          "model_name": "LayoutModel",
          "state": {
            "_view_name": "LayoutView",
            "grid_template_rows": null,
            "right": null,
            "justify_content": null,
            "_view_module": "@jupyter-widgets/base",
            "overflow": null,
            "_model_module_version": "1.2.0",
            "_view_count": null,
            "flex_flow": null,
            "width": null,
            "min_width": null,
            "border": null,
            "align_items": null,
            "bottom": null,
            "_model_module": "@jupyter-widgets/base",
            "top": null,
            "grid_column": null,
            "overflow_y": null,
            "overflow_x": null,
            "grid_auto_flow": null,
            "grid_area": null,
            "grid_template_columns": null,
            "flex": null,
            "_model_name": "LayoutModel",
            "justify_items": null,
            "grid_row": null,
            "max_height": null,
            "align_content": null,
            "visibility": null,
            "align_self": null,
            "height": null,
            "min_height": null,
            "padding": null,
            "grid_auto_rows": null,
            "grid_gap": null,
            "max_width": null,
            "order": null,
            "_view_module_version": "1.2.0",
            "grid_template_areas": null,
            "object_position": null,
            "object_fit": null,
            "grid_auto_columns": null,
            "margin": null,
            "display": null,
            "left": null
          }
        },
        "75b55782e235492e93c9358ca1dae671": {
          "model_module": "@jupyter-widgets/controls",
          "model_name": "HBoxModel",
          "state": {
            "_view_name": "HBoxView",
            "_dom_classes": [],
            "_model_name": "HBoxModel",
            "_view_module": "@jupyter-widgets/controls",
            "_model_module_version": "1.5.0",
            "_view_count": null,
            "_view_module_version": "1.5.0",
            "box_style": "",
            "layout": "IPY_MODEL_f404ba339ef84b8b9e47adba85d6d845",
            "_model_module": "@jupyter-widgets/controls",
            "children": [
              "IPY_MODEL_2be21c50450d4072a2c492dfd106c116",
              "IPY_MODEL_1b91023e23564c6ba694a16774d5152a"
            ]
          }
        },
        "f404ba339ef84b8b9e47adba85d6d845": {
          "model_module": "@jupyter-widgets/base",
          "model_name": "LayoutModel",
          "state": {
            "_view_name": "LayoutView",
            "grid_template_rows": null,
            "right": null,
            "justify_content": null,
            "_view_module": "@jupyter-widgets/base",
            "overflow": null,
            "_model_module_version": "1.2.0",
            "_view_count": null,
            "flex_flow": null,
            "width": null,
            "min_width": null,
            "border": null,
            "align_items": null,
            "bottom": null,
            "_model_module": "@jupyter-widgets/base",
            "top": null,
            "grid_column": null,
            "overflow_y": null,
            "overflow_x": null,
            "grid_auto_flow": null,
            "grid_area": null,
            "grid_template_columns": null,
            "flex": null,
            "_model_name": "LayoutModel",
            "justify_items": null,
            "grid_row": null,
            "max_height": null,
            "align_content": null,
            "visibility": null,
            "align_self": null,
            "height": null,
            "min_height": null,
            "padding": null,
            "grid_auto_rows": null,
            "grid_gap": null,
            "max_width": null,
            "order": null,
            "_view_module_version": "1.2.0",
            "grid_template_areas": null,
            "object_position": null,
            "object_fit": null,
            "grid_auto_columns": null,
            "margin": null,
            "display": null,
            "left": null
          }
        },
        "2be21c50450d4072a2c492dfd106c116": {
          "model_module": "@jupyter-widgets/controls",
          "model_name": "FloatProgressModel",
          "state": {
            "_view_name": "ProgressView",
            "style": "IPY_MODEL_c4b9075c45154afb967a1648f0049a59",
            "_dom_classes": [],
            "description": "100%",
            "_model_name": "FloatProgressModel",
            "bar_style": "success",
            "max": 5296,
            "_view_module": "@jupyter-widgets/controls",
            "_model_module_version": "1.5.0",
            "value": 5296,
            "_view_count": null,
            "_view_module_version": "1.5.0",
            "orientation": "horizontal",
            "min": 0,
            "description_tooltip": null,
            "_model_module": "@jupyter-widgets/controls",
            "layout": "IPY_MODEL_7b628ed79bd14282940f96a3ad3f81c4"
          }
        },
        "1b91023e23564c6ba694a16774d5152a": {
          "model_module": "@jupyter-widgets/controls",
          "model_name": "HTMLModel",
          "state": {
            "_view_name": "HTMLView",
            "style": "IPY_MODEL_29b3d4185a4447c38d00007ce507feae",
            "_dom_classes": [],
            "description": "",
            "_model_name": "HTMLModel",
            "placeholder": "​",
            "_view_module": "@jupyter-widgets/controls",
            "_model_module_version": "1.5.0",
            "value": " 5296/5296 [00:12&lt;00:00, 429.67it/s]",
            "_view_count": null,
            "_view_module_version": "1.5.0",
            "description_tooltip": null,
            "_model_module": "@jupyter-widgets/controls",
            "layout": "IPY_MODEL_0ad431587c3d4e678e6a991263e6d8aa"
          }
        },
        "c4b9075c45154afb967a1648f0049a59": {
          "model_module": "@jupyter-widgets/controls",
          "model_name": "ProgressStyleModel",
          "state": {
            "_view_name": "StyleView",
            "_model_name": "ProgressStyleModel",
            "description_width": "initial",
            "_view_module": "@jupyter-widgets/base",
            "_model_module_version": "1.5.0",
            "_view_count": null,
            "_view_module_version": "1.2.0",
            "bar_color": null,
            "_model_module": "@jupyter-widgets/controls"
          }
        },
        "7b628ed79bd14282940f96a3ad3f81c4": {
          "model_module": "@jupyter-widgets/base",
          "model_name": "LayoutModel",
          "state": {
            "_view_name": "LayoutView",
            "grid_template_rows": null,
            "right": null,
            "justify_content": null,
            "_view_module": "@jupyter-widgets/base",
            "overflow": null,
            "_model_module_version": "1.2.0",
            "_view_count": null,
            "flex_flow": null,
            "width": null,
            "min_width": null,
            "border": null,
            "align_items": null,
            "bottom": null,
            "_model_module": "@jupyter-widgets/base",
            "top": null,
            "grid_column": null,
            "overflow_y": null,
            "overflow_x": null,
            "grid_auto_flow": null,
            "grid_area": null,
            "grid_template_columns": null,
            "flex": null,
            "_model_name": "LayoutModel",
            "justify_items": null,
            "grid_row": null,
            "max_height": null,
            "align_content": null,
            "visibility": null,
            "align_self": null,
            "height": null,
            "min_height": null,
            "padding": null,
            "grid_auto_rows": null,
            "grid_gap": null,
            "max_width": null,
            "order": null,
            "_view_module_version": "1.2.0",
            "grid_template_areas": null,
            "object_position": null,
            "object_fit": null,
            "grid_auto_columns": null,
            "margin": null,
            "display": null,
            "left": null
          }
        },
        "29b3d4185a4447c38d00007ce507feae": {
          "model_module": "@jupyter-widgets/controls",
          "model_name": "DescriptionStyleModel",
          "state": {
            "_view_name": "StyleView",
            "_model_name": "DescriptionStyleModel",
            "description_width": "",
            "_view_module": "@jupyter-widgets/base",
            "_model_module_version": "1.5.0",
            "_view_count": null,
            "_view_module_version": "1.2.0",
            "_model_module": "@jupyter-widgets/controls"
          }
        },
        "0ad431587c3d4e678e6a991263e6d8aa": {
          "model_module": "@jupyter-widgets/base",
          "model_name": "LayoutModel",
          "state": {
            "_view_name": "LayoutView",
            "grid_template_rows": null,
            "right": null,
            "justify_content": null,
            "_view_module": "@jupyter-widgets/base",
            "overflow": null,
            "_model_module_version": "1.2.0",
            "_view_count": null,
            "flex_flow": null,
            "width": null,
            "min_width": null,
            "border": null,
            "align_items": null,
            "bottom": null,
            "_model_module": "@jupyter-widgets/base",
            "top": null,
            "grid_column": null,
            "overflow_y": null,
            "overflow_x": null,
            "grid_auto_flow": null,
            "grid_area": null,
            "grid_template_columns": null,
            "flex": null,
            "_model_name": "LayoutModel",
            "justify_items": null,
            "grid_row": null,
            "max_height": null,
            "align_content": null,
            "visibility": null,
            "align_self": null,
            "height": null,
            "min_height": null,
            "padding": null,
            "grid_auto_rows": null,
            "grid_gap": null,
            "max_width": null,
            "order": null,
            "_view_module_version": "1.2.0",
            "grid_template_areas": null,
            "object_position": null,
            "object_fit": null,
            "grid_auto_columns": null,
            "margin": null,
            "display": null,
            "left": null
          }
        }
      }
    }
  },
  "cells": [
    {
      "cell_type": "code",
      "metadata": {
        "id": "DuL0xUz8ko5Z",
        "colab_type": "code",
        "colab": {}
      },
      "source": [
        "import pandas as pd\n",
        "import random\n",
        "import json\n",
        "import numpy as np \n",
        "from entity_classifier_model import EntityIdentifier\n",
        "from metrics import results_analyser"
      ],
      "execution_count": 0,
      "outputs": []
    },
    {
      "cell_type": "code",
      "metadata": {
        "id": "BSPT8b9RNvPh",
        "colab_type": "code",
        "colab": {}
      },
      "source": [
        "Current_path =  #your current path"
      ],
      "execution_count": 0,
      "outputs": []
    },
    {
      "cell_type": "code",
      "metadata": {
        "id": "yLkxCYCvbmUu",
        "colab_type": "code",
        "colab": {}
      },
      "source": [
        "def read_results(results_path):\n",
        "  #reads the test results of NER model\n",
        "  #results are saved as a json file, each item is realted to one sentence\n",
        "  #keys are true labels (list of IOB), predicted labels (list of IOB) and tokenized text \n",
        "  with open(results_path, 'r') as f_:\n",
        "    data = json.load(f_)\n",
        "\n",
        "  y_true = [item['true_label'] for item in data]\n",
        "  y_pred = [item['predicted_label'] for item in data]\n",
        "  sentences = [item['sent'] for item in data]\n",
        "  \n",
        "  return y_true, y_pred, sentences\n",
        "    "
      ],
      "execution_count": 0,
      "outputs": []
    },
    {
      "cell_type": "markdown",
      "metadata": {
        "id": "XbvhvH70grQ5",
        "colab_type": "text"
      },
      "source": [
        "#Load st21pv entity classifier"
      ]
    },
    {
      "cell_type": "code",
      "metadata": {
        "id": "WWyghfnOfiMG",
        "colab_type": "code",
        "colab": {}
      },
      "source": [
        "stpv_model_loaded = EntityIdentifier(num_labels=22)  \n",
        "stpv_model_loaded.load_model(Current_path + 'entity_identifier_models/st21pv/')\n",
        "precisions = stpv_model_loaded.precisions"
      ],
      "execution_count": 0,
      "outputs": []
    },
    {
      "cell_type": "code",
      "metadata": {
        "id": "WFM4hPR8iI0-",
        "colab_type": "code",
        "outputId": "87e9948f-805c-4d0d-be39-09356b459bfa",
        "colab": {
          "base_uri": "https://localhost:8080/",
          "height": 106
        }
      },
      "source": [
        "precisions"
      ],
      "execution_count": 0,
      "outputs": [
        {
          "output_type": "execute_result",
          "data": {
            "text/plain": [
              "array([0.72081081, 0.84347826, 0.81263307, 0.68472906, 0.74660633,\n",
              "       0.8115942 , 0.78476616, 0.67346939, 0.82532504, 0.74537037,\n",
              "       0.69565217, 0.80412371, 0.83823529, 0.7983154 , 0.65337423,\n",
              "       0.79736842, 0.92053501, 0.92243767, 0.88099267, 0.80726257,\n",
              "       0.74611399, 0.77339612])"
            ]
          },
          "metadata": {
            "tags": []
          },
          "execution_count": 10
        }
      ]
    },
    {
      "cell_type": "markdown",
      "metadata": {
        "id": "gBwmIDXslQR2",
        "colab_type": "text"
      },
      "source": [
        "##Read results of biobert+linear on the test set of st21pv"
      ]
    },
    {
      "cell_type": "code",
      "metadata": {
        "id": "3VZ_ggZ8gi-A",
        "colab_type": "code",
        "colab": {}
      },
      "source": [
        "stpv_biobert_results_path = Current_path +'st21pv_NER_results/stpv_biobert_lstm_results.json'\n",
        "y_true, y_pred, sentences = read_results(stpv_biobert_results_path)"
      ],
      "execution_count": 0,
      "outputs": []
    },
    {
      "cell_type": "code",
      "metadata": {
        "id": "3U2KeQl1gxtv",
        "colab_type": "code",
        "outputId": "a62cc3ed-5756-4f0a-f8e7-a39cf6a50d99",
        "colab": {
          "base_uri": "https://localhost:8080/",
          "height": 1000
        }
      },
      "source": [
        "y_true[0],y_pred[0], sentences[0]"
      ],
      "execution_count": 0,
      "outputs": [
        {
          "output_type": "execute_result",
          "data": {
            "text/plain": [
              "(['O',\n",
              "  'O',\n",
              "  'B-research_activity',\n",
              "  'O',\n",
              "  'O',\n",
              "  'O',\n",
              "  'B-health_care_activity',\n",
              "  'I-health_care_activity',\n",
              "  'I-health_care_activity',\n",
              "  'O',\n",
              "  'O',\n",
              "  'B-anatomical_structure',\n",
              "  'I-anatomical_structure',\n",
              "  'O',\n",
              "  'O',\n",
              "  'O',\n",
              "  'B-chemical',\n",
              "  'I-chemical',\n",
              "  'I-chemical',\n",
              "  'I-chemical',\n",
              "  'O',\n",
              "  'B-chemical',\n",
              "  'O'],\n",
              " ['O',\n",
              "  'O',\n",
              "  'B-research_activity',\n",
              "  'O',\n",
              "  'O',\n",
              "  'O',\n",
              "  'B-intellectual_product',\n",
              "  'I-intellectual_product',\n",
              "  'I-intellectual_product',\n",
              "  'O',\n",
              "  'O',\n",
              "  'O',\n",
              "  'O',\n",
              "  'O',\n",
              "  'O',\n",
              "  'O',\n",
              "  'B-intellectual_product',\n",
              "  'I-intellectual_product',\n",
              "  'I-intellectual_product',\n",
              "  'I-intellectual_product',\n",
              "  'O',\n",
              "  'B-intellectual_product',\n",
              "  'O'],\n",
              " ['Development',\n",
              "  'and',\n",
              "  'validation',\n",
              "  'of',\n",
              "  'an',\n",
              "  'easy-to-use',\n",
              "  'risk',\n",
              "  'assessment',\n",
              "  'tool',\n",
              "  'for',\n",
              "  'cumulative',\n",
              "  'low',\n",
              "  'back',\n",
              "  'loading',\n",
              "  ':',\n",
              "  'The',\n",
              "  'Lifting',\n",
              "  'Fatigue',\n",
              "  'Failure',\n",
              "  'Tool',\n",
              "  '(',\n",
              "  'LiFFT',\n",
              "  ')'])"
            ]
          },
          "metadata": {
            "tags": []
          },
          "execution_count": 12
        }
      ]
    },
    {
      "cell_type": "markdown",
      "metadata": {
        "id": "rnlYFo3HhNhC",
        "colab_type": "text"
      },
      "source": [
        "##Error Analysis and F-score"
      ]
    },
    {
      "cell_type": "code",
      "metadata": {
        "id": "LLGJvcmhpQiz",
        "colab_type": "code",
        "outputId": "5132f45d-62d1-482f-9925-3f718baba518",
        "colab": {
          "base_uri": "https://localhost:8080/",
          "height": 67,
          "referenced_widgets": [
            "c8f9f5ca2d114476b11fba1a961dc17b",
            "cad1033de64e480086fd00d4d73038f6",
            "17dee88b7e284e04828141642d1dc3a5",
            "e496f72280894c699b7b69ea8fce02f6",
            "e4f38044b6e346e18c24a11574232dd3",
            "cc21bd55061444daa8d173626cec8273",
            "93b0d38a3e2d4e89b59e84ce3065dcdb",
            "3ade888f4dae43c18514dbe8707519d2"
          ]
        }
      },
      "source": [
        "stpv_biobert_analyser =results_analyser(y_true,y_pred,sentences, stpv_model_loaded,precisions)\n",
        "Fscores = stpv_biobert_analyser.get_all_fscores()"
      ],
      "execution_count": 0,
      "outputs": [
        {
          "output_type": "display_data",
          "data": {
            "application/vnd.jupyter.widget-view+json": {
              "model_id": "c8f9f5ca2d114476b11fba1a961dc17b",
              "version_minor": 0,
              "version_major": 2
            },
            "text/plain": [
              "HBox(children=(FloatProgress(value=0.0, max=5296.0), HTML(value='')))"
            ]
          },
          "metadata": {
            "tags": []
          }
        },
        {
          "output_type": "stream",
          "text": [
            "\n"
          ],
          "name": "stdout"
        }
      ]
    },
    {
      "cell_type": "code",
      "metadata": {
        "id": "6jEda77T2HZx",
        "colab_type": "code",
        "outputId": "b619cf78-b6fc-47fa-9b94-74ceb6ac9e7a",
        "colab": {
          "base_uri": "https://localhost:8080/",
          "height": 70
        }
      },
      "source": [
        "print('Excat Fscore = ', Fscores[0])\n",
        "print('Learning-Based Fscoer = ', Fscores[1])\n",
        "print('Relaxed Fscoer = ', Fscores[2])"
      ],
      "execution_count": 0,
      "outputs": [
        {
          "output_type": "stream",
          "text": [
            "Excat Fscore =  0.6323408416107222\n",
            "Learning-Based Fscoer =  0.7350082873257575\n",
            "Relaxed Fscoer =  0.7586420709967446\n"
          ],
          "name": "stdout"
        }
      ]
    },
    {
      "cell_type": "code",
      "metadata": {
        "id": "P6l3zU6fdwLI",
        "colab_type": "code",
        "outputId": "b9421ad8-17bc-4cce-b896-445d939afe09",
        "colab": {
          "base_uri": "https://localhost:8080/",
          "height": 259,
          "referenced_widgets": [
            "b3f0400a3bf64d2b9a6128fca0195abb",
            "2febbe0b03fc4779abeccf7adb81cd9a",
            "fe06405109c94714a5c08c966fb80704",
            "61ef6c441fb644b9a68df5d5c6b9216b",
            "eecccfa905734400ad757306fd6dce97",
            "6c77e34d992d4d30bf60b3af348515ea",
            "8a103dd670384a9baa87cf9e0bbb5f22",
            "30af3c4d7c0d4445aa5a1d9e2601240b",
            "75b55782e235492e93c9358ca1dae671",
            "f404ba339ef84b8b9e47adba85d6d845",
            "2be21c50450d4072a2c492dfd106c116",
            "1b91023e23564c6ba694a16774d5152a",
            "c4b9075c45154afb967a1648f0049a59",
            "7b628ed79bd14282940f96a3ad3f81c4",
            "29b3d4185a4447c38d00007ce507feae",
            "0ad431587c3d4e678e6a991263e6d8aa"
          ]
        }
      },
      "source": [
        "print('number of exact matches = ', stpv_biobert_analyser.n_correct)\n",
        "print('number of false positives = ', stpv_biobert_analyser.n_false_positive )\n",
        "print('number of false negatives = ', stpv_biobert_analyser.n_false_negative)\n",
        "print('number of extracted entities with wrong label and right span =', stpv_biobert_analyser.n_wrong_label_right_span)\n",
        "print('number of extracted entities with wrong label and overlapping span =', stpv_biobert_analyser.n_wrong_label_over_span)\n",
        "print('number of extracted entities with right label and overlapping span =',stpv_biobert_analyser.n_right_label_over_span)\n",
        "print('number of accepted Type_5 mismatches = ',  stpv_biobert_analyser.get_overlap_score())\n",
        "print('number of rejected_Type_5 mismatches = ', stpv_biobert_analyser.n_right_label_over_span- stpv_biobert_analyser.get_overlap_score())"
      ],
      "execution_count": 0,
      "outputs": [
        {
          "output_type": "stream",
          "text": [
            "number of exact matches =  26515\n",
            "number of false positives =  6752\n",
            "number of false negatives =  3977\n",
            "number of extracted entities with wrong label and right span = 3145\n",
            "number of extracted entities with wrong label and overlapping span = 3100\n",
            "number of extracted entities with right label and overlapping span = 5296\n"
          ],
          "name": "stdout"
        },
        {
          "output_type": "display_data",
          "data": {
            "application/vnd.jupyter.widget-view+json": {
              "model_id": "b3f0400a3bf64d2b9a6128fca0195abb",
              "version_minor": 0,
              "version_major": 2
            },
            "text/plain": [
              "HBox(children=(FloatProgress(value=0.0, max=5296.0), HTML(value='')))"
            ]
          },
          "metadata": {
            "tags": []
          }
        },
        {
          "output_type": "stream",
          "text": [
            "\n",
            "number of accepted Type_5 mismatches =  4305\n"
          ],
          "name": "stdout"
        },
        {
          "output_type": "display_data",
          "data": {
            "application/vnd.jupyter.widget-view+json": {
              "model_id": "75b55782e235492e93c9358ca1dae671",
              "version_minor": 0,
              "version_major": 2
            },
            "text/plain": [
              "HBox(children=(FloatProgress(value=0.0, max=5296.0), HTML(value='')))"
            ]
          },
          "metadata": {
            "tags": []
          }
        },
        {
          "output_type": "stream",
          "text": [
            "\n",
            "number of rejected_Type_5 mismatches =  991\n"
          ],
          "name": "stdout"
        }
      ]
    }
  ]
}